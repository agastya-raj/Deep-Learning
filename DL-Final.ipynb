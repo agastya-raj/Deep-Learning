{
 "cells": [
  {
   "cell_type": "code",
   "execution_count": 1,
   "metadata": {
    "scrolled": true
   },
   "outputs": [
    {
     "name": "stderr",
     "output_type": "stream",
     "text": [
      "Using TensorFlow backend.\n"
     ]
    }
   ],
   "source": [
    "import numpy as np\n",
    "import pandas as pd\n",
    "import scipy as sp\n",
    "import sklearn\n",
    "import matplotlib.pyplot as plt\n",
    "import seaborn as sns\n",
    "import os\n",
    "import tensorflow as tf\n",
    "import keras\n",
    "import time\n",
    "%matplotlib inline\n",
    "import math\n",
    "os.chdir('C:\\\\Users\\\\agastya1208\\\\Downloads')"
   ]
  },
  {
   "cell_type": "code",
   "execution_count": 2,
   "metadata": {
    "collapsed": true
   },
   "outputs": [],
   "source": [
    "np.random.seed(3)"
   ]
  },
  {
   "cell_type": "code",
   "execution_count": 3,
   "metadata": {
    "collapsed": true
   },
   "outputs": [],
   "source": [
    "def sigmoid(z):\n",
    "    sigm = 1/(1+np.exp(-z))\n",
    "    return sigm\n",
    "def tanh(z):\n",
    "    tanh = (np.exp(z) - np.exp(-z))/(np.exp(z) + np.exp(-z))\n",
    "    return tanh\n",
    "def relu(z):\n",
    "    relu = np.maximum(0, z)\n",
    "    return relu"
   ]
  },
  {
   "cell_type": "markdown",
   "metadata": {},
   "source": [
    "#### 1 Hidden Layer - Tanh and Output layer - Sigmoid"
   ]
  },
  {
   "cell_type": "code",
   "execution_count": 4,
   "metadata": {
    "collapsed": true
   },
   "outputs": [],
   "source": [
    "def layer_sizes(X, Y):\n",
    "    n_x = X.shape[0]\n",
    "    n_y = Y.shape[0]\n",
    "    return n_x, n_y\n",
    "def initialize_params(n_x, n_h, n_y):\n",
    "    w1 = np.random.randn(n_h, n_x)*0.01\n",
    "    b1 = np.zeros((n_h, 1))\n",
    "    w2 = np.random.randn(n_y, n_h)*0.01\n",
    "    b2 = np.zeros((n_y, 1))\n",
    "    params = {'w1': w1,\n",
    "             'b1': b1,\n",
    "             'w2': w2,\n",
    "             'b2': b2}\n",
    "    return params\n",
    "def forprop(X, params):\n",
    "    w1 = params['w1']\n",
    "    b1 = params['b1']\n",
    "    w2 = params['w2']\n",
    "    b2 = params['b2']\n",
    "    z1 = np.dot(w1, X) + b1\n",
    "    a1 = tanh(z1)\n",
    "    z2 = np.dot(w2, a1) + b2\n",
    "    a2 = sigmoid(z2)\n",
    "    cache = {'a1': a1,\n",
    "            'a2': a2}\n",
    "    return cache\n",
    "def cost_func(Y, cache):\n",
    "    m = Y.shape[1]\n",
    "    a2 = cache['a2']\n",
    "    cost = (-np.sum(np.multiply(Y, np.log(a2)) + np.multiply((1-Y), np.log(1-a2))))/(m)\n",
    "    np.squeeze(cost)\n",
    "    return cost\n",
    "def backprop(X, Y, cache, params):\n",
    "    a2 = cache['a2']\n",
    "    a1 = cache['a1']\n",
    "    m = Y.shape[1]\n",
    "    w2 = params['w2']\n",
    "    w1 = params['w1']\n",
    "    dz2 = a2 - Y\n",
    "    dw2 = (np.dot(dz2, a1.T))/m\n",
    "    db2 = (np.sum(dz2, axis=1, keepdims = True))/m\n",
    "    dz1 = np.dot(w2.T, dz2)*(1 - np.power(a1, 2))\n",
    "    dw1 = (np.dot(dz1, X.T))/m\n",
    "    db1 = (np.sum(dz1, axis=1, keepdims = True))/m\n",
    "    grads = {'dw2': dw2,\n",
    "            'db2': db2,\n",
    "            'dw1': dw1,\n",
    "            'db1': db1}\n",
    "    return grads\n",
    "def grad_descent(params, grads, learning_rate):\n",
    "    w1 = params['w1']\n",
    "    w2 = params['w2']\n",
    "    b1 = params['b1']\n",
    "    b2 = params['b2']\n",
    "    dw1 = grads['dw1']\n",
    "    dw2 = grads['dw2']\n",
    "    db1 = grads['db1']\n",
    "    db2 = grads['db2']\n",
    "    w1 = w1 - (learning_rate*dw1)\n",
    "    b1 = b1 - (learning_rate*db1)\n",
    "    w2 = w2 - (learning_rate*dw2)\n",
    "    b2 = b2 - (learning_rate*db2)\n",
    "    params = {'w1': w1,\n",
    "             'b1': b1,\n",
    "             'w2': w2,\n",
    "             'b2': b2}\n",
    "    return params\n",
    "def predict(X, Y, params):\n",
    "    cache = forprop(X, params)\n",
    "    a2 = cache['a2']\n",
    "    m = Y.shape[1]\n",
    "    predictions = np.zeros((1, m))\n",
    "    for i in range(m):\n",
    "        if a2[0][i]>0.5:\n",
    "            predictions[0][i] = 1\n",
    "        else:\n",
    "            predictions[0][i] = 0\n",
    "    acc = 0\n",
    "    for i in range(m):\n",
    "        if predictions[0][i] == Y[0][i]:\n",
    "            acc += 1\n",
    "    acc_percent = acc/m\n",
    "    return acc_percent\n",
    "def nn(X_train, Y_train, X_test=0, Y_test=0, n_h = 6, learning_rate = 1.2, num_iterations = 10000, plot_graph = True, print_cost = True, test = False, print_coeff = False):\n",
    "    n_x, n_y = layer_sizes(X_train, Y_train)\n",
    "    params = initialize_params(n_x, n_h, n_y)\n",
    "    costs = []\n",
    "    for i in range(num_iterations):\n",
    "        cache = forprop(X_train, params)\n",
    "        cost = cost_func(Y_train, cache)\n",
    "        grads = backprop(X_train, Y_train, cache, params)\n",
    "        params = grad_descent(params, grads, learning_rate)\n",
    "        if print_cost == True and i%1000 == 0:\n",
    "            print('After %dth iteration, the cost is: %f'%(i, cost))\n",
    "        if plot_graph == True and i%10 == 0:\n",
    "            costs.append(cost)\n",
    "    train_percent = predict(X_train, Y_train, params)\n",
    "    if print_coeff == True:\n",
    "        print('W2: ', params['w2'])\n",
    "        print('b2: ', params['b2'])\n",
    "    if test == True:\n",
    "        test_percent = predict(X_test, Y_test, params)\n",
    "        print('Test set accuracy: %f'%(test_percent*100))\n",
    "    if plot_graph == True:\n",
    "        plt.plot(np.squeeze(costs))\n",
    "        plt.ylabel('Cost')\n",
    "        plt.xlabel('Iterations (per tens)')\n",
    "        plt.title(\"Learning rate = \" + str(learning_rate))\n",
    "    print('Training set accuracy: %f'%(train_percent*100))"
   ]
  },
  {
   "cell_type": "code",
   "execution_count": 5,
   "metadata": {
    "collapsed": true
   },
   "outputs": [],
   "source": [
    "def plot(X, Y):\n",
    "    plt.scatter(X[0, :], X[1, :], c=Y, s=40, cmap=plt.cm.Spectral);"
   ]
  },
  {
   "cell_type": "code",
   "execution_count": 6,
   "metadata": {
    "collapsed": true
   },
   "outputs": [],
   "source": [
    "data1 = np.genfromtxt('Gaussian1_X.csv', delimiter=',')\n",
    "data2 = np.genfromtxt('Gaussian1_Y.csv', delimiter=',')\n",
    "p = data2.shape[0]\n",
    "X1 = np.transpose(data1)\n",
    "Y1 = np.transpose(data2)\n",
    "Y1 = Y1.reshape(p,1)\n",
    "from sklearn.model_selection import train_test_split\n",
    "xtrain, xtest, ytrain, ytest = train_test_split(X1, Y1, test_size = 0.2, stratify=Y1)\n",
    "xtrain = np.transpose(xtrain)\n",
    "xtest = np.transpose(xtest)\n",
    "ytrain = np.transpose(ytrain)\n",
    "ytest = np.transpose(ytest)"
   ]
  },
  {
   "cell_type": "code",
   "execution_count": 7,
   "metadata": {},
   "outputs": [
    {
     "name": "stdout",
     "output_type": "stream",
     "text": [
      "Test set accuracy: 92.500000\n",
      "Training set accuracy: 99.375000\n"
     ]
    },
    {
     "data": {
      "image/png": "[encoded data removed]",
      "text/plain": [
       "<matplotlib.figure.Figure at 0x1a23f02aa90>"
      ]
     },
     "metadata": {},
     "output_type": "display_data"
    }
   ],
   "source": [
    "nn(xtrain, ytrain, xtest, ytest, test=True, print_cost = False, n_h = 20, learning_rate = 0.5, num_iterations=50000)"
   ]
  },
  {
   "cell_type": "code",
   "execution_count": 7,
   "metadata": {},
   "outputs": [
    {
     "data": {
      "image/png": "[encoded data removed]",
      "text/plain": [
       "<matplotlib.figure.Figure at 0x2661dbfa4e0>"
      ]
     },
     "metadata": {},
     "output_type": "display_data"
    }
   ],
   "source": [
    "plot(data1, data2)"
   ]
  },
  {
   "cell_type": "markdown",
   "metadata": {
    "collapsed": true
   },
   "source": [
    "#### L hidden layers - Linear-->RELU/tanh-->Sigmoid"
   ]
  },
  {
   "cell_type": "code",
   "execution_count": 8,
   "metadata": {
    "collapsed": true
   },
   "outputs": [],
   "source": [
    "def initialize_params_deep(X, Y, init):\n",
    "    n1 = input(\"Enter number of layers: \")\n",
    "    layer_dims = []\n",
    "    layer_dims.append(X.shape[0])\n",
    "    for i in range(int(n1)):\n",
    "        n2 = input(\"Enter number of hidden units in layer %s: \"%(i+1))\n",
    "        layer_dims.append(int(n2))\n",
    "    parameters = {}\n",
    "    initializer = 0.01\n",
    "    for i in range(1, len(layer_dims)):\n",
    "        if init == 'he':\n",
    "            initializer = np.sqrt(2/layer_dims[i-1])\n",
    "        parameters['W' + str(i)] = np.random.randn(layer_dims[i], layer_dims[i-1])*initializer\n",
    "        parameters['b' + str(i)] = np.zeros((layer_dims[i], 1))\n",
    "    return parameters\n",
    "def forprop_deep(X, parameters, activation, keep_prob):\n",
    "    caches = []\n",
    "    A = X\n",
    "    L = len(parameters)//2\n",
    "    for i in range(L-1):\n",
    "        A_prev = A\n",
    "        W = parameters['W' + str(i+1)]\n",
    "        b = parameters['b' + str(i+1)]\n",
    "        Z = np.dot(W, A_prev) + b\n",
    "        if activation == 'relu':\n",
    "            A = relu(Z)\n",
    "        elif activation == 'tanh':\n",
    "            A = tanh(Z)\n",
    "        D = np.random.rand(A.shape[0], A.shape[1])\n",
    "        D = D<keep_prob\n",
    "        A = A*D\n",
    "        A = A/keep_prob\n",
    "        cache = (A_prev, Z, W, b, D)\n",
    "        caches.append(cache)\n",
    "    W = parameters['W' + str(L)]\n",
    "    b = parameters['b' + str(L)]\n",
    "    ZL = np.dot(W, A) + b\n",
    "    AL = sigmoid(ZL)\n",
    "    D = 0\n",
    "    cache = (A, ZL, W, b, D)\n",
    "    caches.append(cache)\n",
    "    return AL, caches\n",
    "def cost_function_deep(X, Y, AL, lambd, parameters):\n",
    "    m = Y.shape[1]\n",
    "    cross_entropy_cost = (-np.sum(np.multiply(Y, np.log(AL)) + np.multiply((1-Y), np.log(1 - AL))))/(m)\n",
    "    regularization_cost = 0\n",
    "    for i in range(len(parameters)//2):\n",
    "        regularization_cost += np.sum(np.square(parameters['W' + str(i+1)]))\n",
    "    regularization_cost = regularization_cost*(lambd/(2*m))\n",
    "    cost = cross_entropy_cost + regularization_cost\n",
    "    return cost\n",
    "def backprop_deep(X, Y, caches, AL, parameters, learning_rate, activation, lambd, keep_prob):\n",
    "    grads = {}\n",
    "    L = len(caches)\n",
    "    m = AL.shape[1]\n",
    "    m_ = X.shape[1]\n",
    "    dAL = -(np.divide(Y, AL) - np.divide(1 - Y, 1 - AL))\n",
    "    A_prev = caches[L-1][0]\n",
    "    ZL = caches[L-1][1]\n",
    "    W = caches[L-1][2]\n",
    "    s = 1/(1+np.exp(-ZL))\n",
    "    dZL = dAL* s * (1-s)\n",
    "    m = A_prev.shape[1]\n",
    "    D = caches[L-2][4]\n",
    "    grads[\"dW\" + str(L)] = np.dot(dZL, A_prev.T)/m\n",
    "    grads[\"db\" + str(L)] = np.sum(dZL, axis=1, keepdims = True)/m\n",
    "    dA_prev = np.dot(W.T, dZL)\n",
    "    D = D<keep_prob\n",
    "    dA_prev = dA_prev*D\n",
    "    dA_prev = dA_prev/keep_prob\n",
    "    grads[\"dA\" + str(L-1)] = dA_prev\n",
    "    for i in reversed(range(L-1)):\n",
    "        A_prev = caches[i][0]\n",
    "        Z = caches[i][1]\n",
    "        W = caches[i][2]\n",
    "        D = caches[i-1][4]\n",
    "        dA = grads['dA' + str(i+1)]\n",
    "        if activation == 'relu':\n",
    "            dZ = np.array(dA, copy=True)\n",
    "            dZ[Z <= 0] = 0\n",
    "        elif activation == 'tanh':\n",
    "            s = tanh(Z)\n",
    "            dZ = dA*(1 - np.power(s, 2))\n",
    "        m = A_prev.shape[1]\n",
    "        dW_temp = np.dot(dZ, A_prev.T)/m\n",
    "        db_temp = np.sum(dZ, axis=1, keepdims = True)/m\n",
    "        dA_prev_temp = np.dot(W.T, dZ)\n",
    "        D = D<keep_prob\n",
    "        dA_prev_temp = dA_prev_temp*D\n",
    "        dA_prev_temp = dA_prev_temp/keep_prob\n",
    "        grads[\"dA\" + str(i)] = dA_prev_temp\n",
    "        grads[\"dW\" + str(i + 1)] = dW_temp + (lambd/m_)*(parameters['W' + str(i+1)])\n",
    "        grads[\"db\" + str(i + 1)] = db_temp\n",
    "    for i in range(L):\n",
    "        parameters['W' + str(i+1)] = parameters['W' + str(i+1)] - learning_rate*grads['dW'+str(i+1)]\n",
    "        parameters['b' + str(i+1)] = parameters['b' + str(i+1)] - learning_rate*grads['db'+str(i+1)]\n",
    "    return parameters\n",
    "def predict_deep(X, Y, parameters, activation):\n",
    "    keep_prob = 1\n",
    "    AL, caches = forprop_deep(X, parameters, activation, keep_prob)\n",
    "    m = Y.shape[1]\n",
    "    predictions = np.zeros((1, m))\n",
    "    for i in range(m):\n",
    "        if AL[0][i] > 0.5:\n",
    "            predictions[0][i] = 1\n",
    "        else:\n",
    "            predictions[0][i] = 0\n",
    "    acc = 0\n",
    "    for i in range(m):\n",
    "        if predictions[0][i] == Y[0][i]:\n",
    "            acc += 1\n",
    "    acc_score = (acc/m)*100\n",
    "    return acc_score\n",
    "def deep_nn(X, Y, X_test=0, Y_test=0, init = 0, num_iterations = 10000, learning_rate = 0.2, lambd = 0,\n",
    "            print_cost = True, plot_graph = True, activation = 'relu', print_coeff = False, test = False,\n",
    "            keep_prob=1):\n",
    "    parameters = initialize_params_deep(X, Y, init)\n",
    "    costs = []\n",
    "    for i in range(num_iterations):\n",
    "        AL, caches = forprop_deep(X, parameters, activation, keep_prob)\n",
    "        if print_cost == True and i%1000 == 0:\n",
    "            print(\"After %dth iteration, the cost is: %f\"%(i, cost_function_deep(X, Y, AL, lambd, parameters)))\n",
    "        parameters = backprop_deep(X, Y, caches, AL, parameters, learning_rate, activation, lambd, keep_prob)\n",
    "        if plot_graph == True and i%10 == 0:\n",
    "            costs.append(cost_function_deep(X, Y, AL, lambd, parameters))\n",
    "    L = len(parameters)//2\n",
    "    if print_coeff == True:\n",
    "        print('WL: ', parameters['W' + str(L)])\n",
    "        print('bL: ', parameters['b' + str(L)])\n",
    "    if plot_graph == True:\n",
    "        plt.plot(np.squeeze(costs))\n",
    "        plt.ylabel('Cost')\n",
    "        plt.xlabel('Iterations (per tens)')\n",
    "        plt.title(\"Learning rate = \" + str(learning_rate))\n",
    "    train_percent = predict_deep(X, Y, parameters, activation)\n",
    "    print('Training set accuracy: %f'%(train_percent))\n",
    "    if test == True:\n",
    "        test_percent = predict_deep(X_test, Y_test, parameters, activation)\n",
    "        print('Test set accuracy: %f'%(test_percent))\n",
    "    return parameters"
   ]
  },
  {
   "cell_type": "code",
   "execution_count": 230,
   "metadata": {
    "scrolled": true
   },
   "outputs": [
    {
     "name": "stdout",
     "output_type": "stream",
     "text": [
      "Enter number of layers: 3\n",
      "Enter number of hidden units in layer 1: 20\n",
      "Enter number of hidden units in layer 2: 40\n",
      "Enter number of hidden units in layer 3: 1\n",
      "After 0th iteration, the cost is: 0.885167\n",
      "After 1000th iteration, the cost is: 0.786686\n",
      "After 2000th iteration, the cost is: 0.729189\n",
      "After 3000th iteration, the cost is: 0.688240\n",
      "After 4000th iteration, the cost is: 0.654907\n",
      "After 5000th iteration, the cost is: 0.626434\n",
      "After 6000th iteration, the cost is: 0.601751\n",
      "After 7000th iteration, the cost is: 0.580228\n",
      "After 8000th iteration, the cost is: 0.561381\n",
      "After 9000th iteration, the cost is: 0.544809\n",
      "After 10000th iteration, the cost is: 0.530174\n",
      "After 11000th iteration, the cost is: 0.517193\n",
      "After 12000th iteration, the cost is: 0.505627\n",
      "After 13000th iteration, the cost is: 0.495276\n",
      "After 14000th iteration, the cost is: 0.485971\n",
      "After 15000th iteration, the cost is: 0.477573\n",
      "After 16000th iteration, the cost is: 0.469963\n",
      "After 17000th iteration, the cost is: 0.463040\n",
      "After 18000th iteration, the cost is: 0.456720\n",
      "After 19000th iteration, the cost is: 0.450929\n",
      "After 20000th iteration, the cost is: 0.445607\n",
      "After 21000th iteration, the cost is: 0.440699\n",
      "After 22000th iteration, the cost is: 0.436162\n",
      "After 23000th iteration, the cost is: 0.431954\n",
      "After 24000th iteration, the cost is: 0.428042\n",
      "After 25000th iteration, the cost is: 0.424395\n",
      "After 26000th iteration, the cost is: 0.420988\n",
      "After 27000th iteration, the cost is: 0.417798\n",
      "After 28000th iteration, the cost is: 0.414804\n",
      "After 29000th iteration, the cost is: 0.411989\n",
      "After 30000th iteration, the cost is: 0.409336\n",
      "After 31000th iteration, the cost is: 0.406832\n",
      "After 32000th iteration, the cost is: 0.404464\n",
      "After 33000th iteration, the cost is: 0.402220\n",
      "After 34000th iteration, the cost is: 0.400092\n",
      "After 35000th iteration, the cost is: 0.398069\n",
      "After 36000th iteration, the cost is: 0.396144\n",
      "After 37000th iteration, the cost is: 0.394308\n",
      "After 38000th iteration, the cost is: 0.392557\n",
      "After 39000th iteration, the cost is: 0.390883\n",
      "After 40000th iteration, the cost is: 0.389281\n",
      "After 41000th iteration, the cost is: 0.387746\n",
      "After 42000th iteration, the cost is: 0.386273\n",
      "After 43000th iteration, the cost is: 0.384859\n",
      "After 44000th iteration, the cost is: 0.383499\n",
      "After 45000th iteration, the cost is: 0.382191\n",
      "After 46000th iteration, the cost is: 0.380930\n",
      "After 47000th iteration, the cost is: 0.379714\n",
      "After 48000th iteration, the cost is: 0.378540\n",
      "After 49000th iteration, the cost is: 0.377406\n",
      "After 50000th iteration, the cost is: 0.376309\n",
      "After 51000th iteration, the cost is: 0.375247\n",
      "After 52000th iteration, the cost is: 0.374219\n",
      "After 53000th iteration, the cost is: 0.373222\n",
      "After 54000th iteration, the cost is: 0.372254\n",
      "After 55000th iteration, the cost is: 0.371315\n",
      "After 56000th iteration, the cost is: 0.370402\n",
      "After 57000th iteration, the cost is: 0.369514\n",
      "After 58000th iteration, the cost is: 0.368650\n",
      "After 59000th iteration, the cost is: 0.367809\n",
      "After 60000th iteration, the cost is: 0.366990\n",
      "After 61000th iteration, the cost is: 0.366191\n",
      "After 62000th iteration, the cost is: 0.365411\n",
      "After 63000th iteration, the cost is: 0.364650\n",
      "After 64000th iteration, the cost is: 0.363907\n",
      "After 65000th iteration, the cost is: 0.363181\n",
      "After 66000th iteration, the cost is: 0.362471\n",
      "After 67000th iteration, the cost is: 0.361777\n",
      "After 68000th iteration, the cost is: 0.361097\n",
      "After 69000th iteration, the cost is: 0.360431\n",
      "After 70000th iteration, the cost is: 0.359779\n",
      "After 71000th iteration, the cost is: 0.359140\n"
     ]
    },
    {
     "ename": "KeyboardInterrupt",
     "evalue": "",
     "output_type": "error",
     "traceback": [
      "\u001b[0;31m---------------------------------------------------------------------------\u001b[0m",
      "\u001b[0;31mKeyboardInterrupt\u001b[0m                         Traceback (most recent call last)",
      "\u001b[0;32m<ipython-input-230-1127a1aecd15>\u001b[0m in \u001b[0;36m<module>\u001b[0;34m()\u001b[0m\n\u001b[1;32m      1\u001b[0m prms = deep_nn(xtrain, ytrain, xtest, ytest, test = True, init='he', num_iterations=200000, \n\u001b[1;32m      2\u001b[0m                \u001b[0mlearning_rate\u001b[0m\u001b[1;33m=\u001b[0m\u001b[1;36m0.0001\u001b[0m\u001b[1;33m,\u001b[0m \u001b[0mplot_graph\u001b[0m \u001b[1;33m=\u001b[0m \u001b[1;32mTrue\u001b[0m\u001b[1;33m,\u001b[0m \u001b[0mprint_cost\u001b[0m\u001b[1;33m=\u001b[0m\u001b[1;32mTrue\u001b[0m\u001b[1;33m,\u001b[0m \u001b[0mactivation\u001b[0m \u001b[1;33m=\u001b[0m \u001b[1;34m'relu'\u001b[0m\u001b[1;33m,\u001b[0m\u001b[1;33m\u001b[0m\u001b[0m\n\u001b[0;32m----> 3\u001b[0;31m                lambd = 0)\n\u001b[0m",
      "\u001b[0;32m<ipython-input-98-907d48910a29>\u001b[0m in \u001b[0;36mdeep_nn\u001b[0;34m(X, Y, X_test, Y_test, init, num_iterations, learning_rate, lambd, print_cost, plot_graph, activation, print_coeff, test, keep_prob)\u001b[0m\n\u001b[1;32m    121\u001b[0m         \u001b[1;32mif\u001b[0m \u001b[0mprint_cost\u001b[0m \u001b[1;33m==\u001b[0m \u001b[1;32mTrue\u001b[0m \u001b[1;32mand\u001b[0m \u001b[0mi\u001b[0m\u001b[1;33m%\u001b[0m\u001b[1;36m1000\u001b[0m \u001b[1;33m==\u001b[0m \u001b[1;36m0\u001b[0m\u001b[1;33m:\u001b[0m\u001b[1;33m\u001b[0m\u001b[0m\n\u001b[1;32m    122\u001b[0m             \u001b[0mprint\u001b[0m\u001b[1;33m(\u001b[0m\u001b[1;34m\"After %dth iteration, the cost is: %f\"\u001b[0m\u001b[1;33m%\u001b[0m\u001b[1;33m(\u001b[0m\u001b[0mi\u001b[0m\u001b[1;33m,\u001b[0m \u001b[0mcost_function_deep\u001b[0m\u001b[1;33m(\u001b[0m\u001b[0mX\u001b[0m\u001b[1;33m,\u001b[0m \u001b[0mY\u001b[0m\u001b[1;33m,\u001b[0m \u001b[0mAL\u001b[0m\u001b[1;33m,\u001b[0m \u001b[0mlambd\u001b[0m\u001b[1;33m,\u001b[0m \u001b[0mparameters\u001b[0m\u001b[1;33m)\u001b[0m\u001b[1;33m)\u001b[0m\u001b[1;33m)\u001b[0m\u001b[1;33m\u001b[0m\u001b[0m\n\u001b[0;32m--> 123\u001b[0;31m         \u001b[0mparameters\u001b[0m \u001b[1;33m=\u001b[0m \u001b[0mbackprop_deep\u001b[0m\u001b[1;33m(\u001b[0m\u001b[0mX\u001b[0m\u001b[1;33m,\u001b[0m \u001b[0mY\u001b[0m\u001b[1;33m,\u001b[0m \u001b[0mcaches\u001b[0m\u001b[1;33m,\u001b[0m \u001b[0mAL\u001b[0m\u001b[1;33m,\u001b[0m \u001b[0mparameters\u001b[0m\u001b[1;33m,\u001b[0m \u001b[0mlearning_rate\u001b[0m\u001b[1;33m,\u001b[0m \u001b[0mactivation\u001b[0m\u001b[1;33m,\u001b[0m \u001b[0mlambd\u001b[0m\u001b[1;33m,\u001b[0m \u001b[0mkeep_prob\u001b[0m\u001b[1;33m)\u001b[0m\u001b[1;33m\u001b[0m\u001b[0m\n\u001b[0m\u001b[1;32m    124\u001b[0m         \u001b[1;32mif\u001b[0m \u001b[0mplot_graph\u001b[0m \u001b[1;33m==\u001b[0m \u001b[1;32mTrue\u001b[0m \u001b[1;32mand\u001b[0m \u001b[0mi\u001b[0m\u001b[1;33m%\u001b[0m\u001b[1;36m10\u001b[0m \u001b[1;33m==\u001b[0m \u001b[1;36m0\u001b[0m\u001b[1;33m:\u001b[0m\u001b[1;33m\u001b[0m\u001b[0m\n\u001b[1;32m    125\u001b[0m             \u001b[0mcosts\u001b[0m\u001b[1;33m.\u001b[0m\u001b[0mappend\u001b[0m\u001b[1;33m(\u001b[0m\u001b[0mcost_function_deep\u001b[0m\u001b[1;33m(\u001b[0m\u001b[0mX\u001b[0m\u001b[1;33m,\u001b[0m \u001b[0mY\u001b[0m\u001b[1;33m,\u001b[0m \u001b[0mAL\u001b[0m\u001b[1;33m,\u001b[0m \u001b[0mlambd\u001b[0m\u001b[1;33m,\u001b[0m \u001b[0mparameters\u001b[0m\u001b[1;33m)\u001b[0m\u001b[1;33m)\u001b[0m\u001b[1;33m\u001b[0m\u001b[0m\n",
      "\u001b[0;32m<ipython-input-98-907d48910a29>\u001b[0m in \u001b[0;36mbackprop_deep\u001b[0;34m(X, Y, caches, AL, parameters, learning_rate, activation, lambd, keep_prob)\u001b[0m\n\u001b[1;32m     83\u001b[0m             \u001b[0mdZ\u001b[0m \u001b[1;33m=\u001b[0m \u001b[0mdA\u001b[0m\u001b[1;33m*\u001b[0m\u001b[1;33m(\u001b[0m\u001b[1;36m1\u001b[0m \u001b[1;33m-\u001b[0m \u001b[0mnp\u001b[0m\u001b[1;33m.\u001b[0m\u001b[0mpower\u001b[0m\u001b[1;33m(\u001b[0m\u001b[0ms\u001b[0m\u001b[1;33m,\u001b[0m \u001b[1;36m2\u001b[0m\u001b[1;33m)\u001b[0m\u001b[1;33m)\u001b[0m\u001b[1;33m\u001b[0m\u001b[0m\n\u001b[1;32m     84\u001b[0m         \u001b[0mm\u001b[0m \u001b[1;33m=\u001b[0m \u001b[0mA_prev\u001b[0m\u001b[1;33m.\u001b[0m\u001b[0mshape\u001b[0m\u001b[1;33m[\u001b[0m\u001b[1;36m1\u001b[0m\u001b[1;33m]\u001b[0m\u001b[1;33m\u001b[0m\u001b[0m\n\u001b[0;32m---> 85\u001b[0;31m         \u001b[0mdW_temp\u001b[0m \u001b[1;33m=\u001b[0m \u001b[0mnp\u001b[0m\u001b[1;33m.\u001b[0m\u001b[0mdot\u001b[0m\u001b[1;33m(\u001b[0m\u001b[0mdZ\u001b[0m\u001b[1;33m,\u001b[0m \u001b[0mA_prev\u001b[0m\u001b[1;33m.\u001b[0m\u001b[0mT\u001b[0m\u001b[1;33m)\u001b[0m\u001b[1;33m/\u001b[0m\u001b[0mm\u001b[0m\u001b[1;33m\u001b[0m\u001b[0m\n\u001b[0m\u001b[1;32m     86\u001b[0m         \u001b[0mdb_temp\u001b[0m \u001b[1;33m=\u001b[0m \u001b[0mnp\u001b[0m\u001b[1;33m.\u001b[0m\u001b[0msum\u001b[0m\u001b[1;33m(\u001b[0m\u001b[0mdZ\u001b[0m\u001b[1;33m,\u001b[0m \u001b[0maxis\u001b[0m\u001b[1;33m=\u001b[0m\u001b[1;36m1\u001b[0m\u001b[1;33m,\u001b[0m \u001b[0mkeepdims\u001b[0m \u001b[1;33m=\u001b[0m \u001b[1;32mTrue\u001b[0m\u001b[1;33m)\u001b[0m\u001b[1;33m/\u001b[0m\u001b[0mm\u001b[0m\u001b[1;33m\u001b[0m\u001b[0m\n\u001b[1;32m     87\u001b[0m         \u001b[0mdA_prev_temp\u001b[0m \u001b[1;33m=\u001b[0m \u001b[0mnp\u001b[0m\u001b[1;33m.\u001b[0m\u001b[0mdot\u001b[0m\u001b[1;33m(\u001b[0m\u001b[0mW\u001b[0m\u001b[1;33m.\u001b[0m\u001b[0mT\u001b[0m\u001b[1;33m,\u001b[0m \u001b[0mdZ\u001b[0m\u001b[1;33m)\u001b[0m\u001b[1;33m\u001b[0m\u001b[0m\n",
      "\u001b[0;31mKeyboardInterrupt\u001b[0m: "
     ]
    }
   ],
   "source": [
    "prms = deep_nn(xtrain, ytrain, xtest, ytest, test = True, init='he', num_iterations=200000, \n",
    "               learning_rate=0.0001, plot_graph = True, print_cost=True, activation = 'relu', \n",
    "               lambd = 0)"
   ]
  },
  {
   "cell_type": "code",
   "execution_count": 70,
   "metadata": {
    "scrolled": false
   },
   "outputs": [
    {
     "name": "stdout",
     "output_type": "stream",
     "text": [
      "Enter number of layers: 2\n",
      "Enter number of hidden units in layer 1: 20\n",
      "Enter number of hidden units in layer 2: 1\n",
      "Training set accuracy: 86.875000\n",
      "Test set accuracy: 85.000000\n"
     ]
    },
    {
     "data": {
      "image/png": "[encoded data removed]",
      "text/plain": [
       "<matplotlib.figure.Figure at 0x204815dc780>"
      ]
     },
     "metadata": {},
     "output_type": "display_data"
    }
   ],
   "source": [
    "'''prms = deep_nn(xtrain, ytrain, xtest, ytest, test = True, init='he', \n",
    "               num_iterations=200000, learning_rate=0.001, plot_graph = True, \n",
    "               print_cost=False, activation = 'tanh', lambd = 1, keep_prob = 0.5)"
   ]
  },
  {
   "cell_type": "code",
   "execution_count": 38,
   "metadata": {},
   "outputs": [
    {
     "name": "stdout",
     "output_type": "stream",
     "text": [
      "Test set accuracy: 85.000000\n",
      "Training set accuracy: 87.500000\n"
     ]
    },
    {
     "data": {
      "image/png": "[encoded data removed]",
      "text/plain": [
       "<matplotlib.figure.Figure at 0x20481549668>"
      ]
     },
     "metadata": {},
     "output_type": "display_data"
    }
   ],
   "source": [
    "'''nn(xtrain, ytrain, xtest, ytest, test = True, num_iterations= 100000, learning_rate = 0.01, \n",
    "   print_cost = False, n_h=20)"
   ]
  },
  {
   "cell_type": "code",
   "execution_count": 9,
   "metadata": {
    "collapsed": true
   },
   "outputs": [],
   "source": [
    "def plot_decision_boundary(model, X, y):\n",
    "    x_min, x_max = X[0, :].min() - 1, X[0, :].max() + 1\n",
    "    y_min, y_max = X[1, :].min() - 1, X[1, :].max() + 1\n",
    "    h = 0.01\n",
    "    xx, yy = np.meshgrid(np.arange(x_min, x_max, h), np.arange(y_min, y_max, h))\n",
    "    Z = model(np.c_[xx.ravel(), yy.ravel()])\n",
    "    Z = Z.reshape(xx.shape)\n",
    "    plt.contourf(xx, yy, Z, cmap=plt.cm.Spectral)\n",
    "    plt.ylabel('x2')\n",
    "    plt.xlabel('x1')\n",
    "    plt.scatter(X[0, :], X[1, :], c=y, cmap=plt.cm.Spectral)\n",
    "    plt.show()\n",
    "def predict_dec(parameters, X):\n",
    "    a3, cache = forprop_deep(X, parameters, activation='tanh', keep_prob=1)\n",
    "    predictions = (a3>0.5)\n",
    "    return predictions\n",
    "def plot_dec(xtrain, ytrain, prms):\n",
    "    plt.title(\"Plot\")\n",
    "    axes = plt.gca()\n",
    "    axes.set_xlim([-1.5,1.5])\n",
    "    axes.set_ylim([-1.5,1.5])\n",
    "    plot_decision_boundary(lambda x: predict_dec(prms, x.T), xtrain, ytrain)"
   ]
  },
  {
   "cell_type": "markdown",
   "metadata": {},
   "source": [
    "--> Implement normalize_input() \n",
    "\n",
    "--> Implement Bengio random initialization\n",
    "\n",
    "--> Tensorflow Gradient Checking\n",
    "\n",
    "--> Implement:\n",
    "\n",
    "            ** Stochastic Gradient Descent\n",
    "            \n",
    "            ** Mini Batch Gradient Descent\n",
    "            \n",
    "            ** Gradient Descent with Momentum\n",
    "            \n",
    "            ** RMSprop\n",
    "            \n",
    "            ** ADAM"
   ]
  },
  {
   "cell_type": "code",
   "execution_count": 10,
   "metadata": {},
   "outputs": [
    {
     "name": "stdout",
     "output_type": "stream",
     "text": [
      "0.0\n"
     ]
    }
   ],
   "source": [
    "p = tf.Variable(0, dtype=tf.float32)\n",
    "cost = tf.add(tf.add(p**2, tf.multiply(-10.,p)), 25)\n",
    "train = tf.train.GradientDescentOptimizer(0.01).minimize(cost)\n",
    "\n",
    "init = tf.global_variables_initializer()\n",
    "session = tf.Session()\n",
    "session.run(init)\n",
    "print(session.run(p))"
   ]
  },
  {
   "cell_type": "code",
   "execution_count": 11,
   "metadata": {
    "collapsed": true
   },
   "outputs": [],
   "source": [
    "session.run(train)"
   ]
  },
  {
   "cell_type": "code",
   "execution_count": 12,
   "metadata": {},
   "outputs": [
    {
     "name": "stdout",
     "output_type": "stream",
     "text": [
      "0.1\n"
     ]
    }
   ],
   "source": [
    "print(session.run(p))"
   ]
  },
  {
   "cell_type": "code",
   "execution_count": 13,
   "metadata": {},
   "outputs": [
    {
     "name": "stdout",
     "output_type": "stream",
     "text": [
      "4.99999\n"
     ]
    }
   ],
   "source": [
    "for i in range(10000):\n",
    "    session.run(train)\n",
    "print(session.run(p))"
   ]
  },
  {
   "cell_type": "code",
   "execution_count": 14,
   "metadata": {},
   "outputs": [
    {
     "name": "stdout",
     "output_type": "stream",
     "text": [
      "600\n"
     ]
    }
   ],
   "source": [
    "a = tf.constant(30)\n",
    "b = tf.constant(20)\n",
    "c = tf.multiply(a, b)\n",
    "init = tf.global_variables_initializer()\n",
    "sess = tf.Session()\n",
    "sess.run(init)\n",
    "print(sess.run(c))"
   ]
  },
  {
   "cell_type": "code",
   "execution_count": 15,
   "metadata": {
    "collapsed": true
   },
   "outputs": [],
   "source": [
    "os.chdir(\"C:\\\\Users\\\\agastya1208\\\\Desktop\\\\Events\")"
   ]
  },
  {
   "cell_type": "code",
   "execution_count": 16,
   "metadata": {
    "collapsed": true
   },
   "outputs": [],
   "source": [
    "data = pd.read_csv('train.csv')"
   ]
  },
  {
   "cell_type": "code",
   "execution_count": 17,
   "metadata": {},
   "outputs": [
    {
     "data": {
      "text/html": [
       "<div>\n",
       "<style>\n",
       "    .dataframe thead tr:only-child th {\n",
       "        text-align: right;\n",
       "    }\n",
       "\n",
       "    .dataframe thead th {\n",
       "        text-align: left;\n",
       "    }\n",
       "\n",
       "    .dataframe tbody tr th {\n",
       "        vertical-align: top;\n",
       "    }\n",
       "</style>\n",
       "<table border=\"1\" class=\"dataframe\">\n",
       "  <thead>\n",
       "    <tr style=\"text-align: right;\">\n",
       "      <th></th>\n",
       "      <th>label</th>\n",
       "      <th>pixel0</th>\n",
       "      <th>pixel1</th>\n",
       "      <th>pixel2</th>\n",
       "      <th>pixel3</th>\n",
       "      <th>pixel4</th>\n",
       "      <th>pixel5</th>\n",
       "      <th>pixel6</th>\n",
       "      <th>pixel7</th>\n",
       "      <th>pixel8</th>\n",
       "      <th>...</th>\n",
       "      <th>pixel774</th>\n",
       "      <th>pixel775</th>\n",
       "      <th>pixel776</th>\n",
       "      <th>pixel777</th>\n",
       "      <th>pixel778</th>\n",
       "      <th>pixel779</th>\n",
       "      <th>pixel780</th>\n",
       "      <th>pixel781</th>\n",
       "      <th>pixel782</th>\n",
       "      <th>pixel783</th>\n",
       "    </tr>\n",
       "  </thead>\n",
       "  <tbody>\n",
       "    <tr>\n",
       "      <th>0</th>\n",
       "      <td>1</td>\n",
       "      <td>0</td>\n",
       "      <td>0</td>\n",
       "      <td>0</td>\n",
       "      <td>0</td>\n",
       "      <td>0</td>\n",
       "      <td>0</td>\n",
       "      <td>0</td>\n",
       "      <td>0</td>\n",
       "      <td>0</td>\n",
       "      <td>...</td>\n",
       "      <td>0</td>\n",
       "      <td>0</td>\n",
       "      <td>0</td>\n",
       "      <td>0</td>\n",
       "      <td>0</td>\n",
       "      <td>0</td>\n",
       "      <td>0</td>\n",
       "      <td>0</td>\n",
       "      <td>0</td>\n",
       "      <td>0</td>\n",
       "    </tr>\n",
       "    <tr>\n",
       "      <th>1</th>\n",
       "      <td>0</td>\n",
       "      <td>0</td>\n",
       "      <td>0</td>\n",
       "      <td>0</td>\n",
       "      <td>0</td>\n",
       "      <td>0</td>\n",
       "      <td>0</td>\n",
       "      <td>0</td>\n",
       "      <td>0</td>\n",
       "      <td>0</td>\n",
       "      <td>...</td>\n",
       "      <td>0</td>\n",
       "      <td>0</td>\n",
       "      <td>0</td>\n",
       "      <td>0</td>\n",
       "      <td>0</td>\n",
       "      <td>0</td>\n",
       "      <td>0</td>\n",
       "      <td>0</td>\n",
       "      <td>0</td>\n",
       "      <td>0</td>\n",
       "    </tr>\n",
       "    <tr>\n",
       "      <th>2</th>\n",
       "      <td>1</td>\n",
       "      <td>0</td>\n",
       "      <td>0</td>\n",
       "      <td>0</td>\n",
       "      <td>0</td>\n",
       "      <td>0</td>\n",
       "      <td>0</td>\n",
       "      <td>0</td>\n",
       "      <td>0</td>\n",
       "      <td>0</td>\n",
       "      <td>...</td>\n",
       "      <td>0</td>\n",
       "      <td>0</td>\n",
       "      <td>0</td>\n",
       "      <td>0</td>\n",
       "      <td>0</td>\n",
       "      <td>0</td>\n",
       "      <td>0</td>\n",
       "      <td>0</td>\n",
       "      <td>0</td>\n",
       "      <td>0</td>\n",
       "    </tr>\n",
       "    <tr>\n",
       "      <th>3</th>\n",
       "      <td>4</td>\n",
       "      <td>0</td>\n",
       "      <td>0</td>\n",
       "      <td>0</td>\n",
       "      <td>0</td>\n",
       "      <td>0</td>\n",
       "      <td>0</td>\n",
       "      <td>0</td>\n",
       "      <td>0</td>\n",
       "      <td>0</td>\n",
       "      <td>...</td>\n",
       "      <td>0</td>\n",
       "      <td>0</td>\n",
       "      <td>0</td>\n",
       "      <td>0</td>\n",
       "      <td>0</td>\n",
       "      <td>0</td>\n",
       "      <td>0</td>\n",
       "      <td>0</td>\n",
       "      <td>0</td>\n",
       "      <td>0</td>\n",
       "    </tr>\n",
       "    <tr>\n",
       "      <th>4</th>\n",
       "      <td>0</td>\n",
       "      <td>0</td>\n",
       "      <td>0</td>\n",
       "      <td>0</td>\n",
       "      <td>0</td>\n",
       "      <td>0</td>\n",
       "      <td>0</td>\n",
       "      <td>0</td>\n",
       "      <td>0</td>\n",
       "      <td>0</td>\n",
       "      <td>...</td>\n",
       "      <td>0</td>\n",
       "      <td>0</td>\n",
       "      <td>0</td>\n",
       "      <td>0</td>\n",
       "      <td>0</td>\n",
       "      <td>0</td>\n",
       "      <td>0</td>\n",
       "      <td>0</td>\n",
       "      <td>0</td>\n",
       "      <td>0</td>\n",
       "    </tr>\n",
       "  </tbody>\n",
       "</table>\n",
       "<p>5 rows × 785 columns</p>\n",
       "</div>"
      ],
      "text/plain": [
       "   label  pixel0  pixel1  pixel2  pixel3  pixel4  pixel5  pixel6  pixel7  \\\n",
       "0      1       0       0       0       0       0       0       0       0   \n",
       "1      0       0       0       0       0       0       0       0       0   \n",
       "2      1       0       0       0       0       0       0       0       0   \n",
       "3      4       0       0       0       0       0       0       0       0   \n",
       "4      0       0       0       0       0       0       0       0       0   \n",
       "\n",
       "   pixel8    ...     pixel774  pixel775  pixel776  pixel777  pixel778  \\\n",
       "0       0    ...            0         0         0         0         0   \n",
       "1       0    ...            0         0         0         0         0   \n",
       "2       0    ...            0         0         0         0         0   \n",
       "3       0    ...            0         0         0         0         0   \n",
       "4       0    ...            0         0         0         0         0   \n",
       "\n",
       "   pixel779  pixel780  pixel781  pixel782  pixel783  \n",
       "0         0         0         0         0         0  \n",
       "1         0         0         0         0         0  \n",
       "2         0         0         0         0         0  \n",
       "3         0         0         0         0         0  \n",
       "4         0         0         0         0         0  \n",
       "\n",
       "[5 rows x 785 columns]"
      ]
     },
     "execution_count": 17,
     "metadata": {},
     "output_type": "execute_result"
    }
   ],
   "source": [
    "data.head()"
   ]
  },
  {
   "cell_type": "code",
   "execution_count": 18,
   "metadata": {
    "collapsed": true
   },
   "outputs": [],
   "source": [
    "Y = data['label']"
   ]
  },
  {
   "cell_type": "code",
   "execution_count": 19,
   "metadata": {},
   "outputs": [
    {
     "data": {
      "text/plain": [
       "array([[1, 0, 1, ..., 7, 6, 9]], dtype=int64)"
      ]
     },
     "execution_count": 19,
     "metadata": {},
     "output_type": "execute_result"
    }
   ],
   "source": [
    "Y = np.array(Y)\n",
    "Y.reshape(1,42000)"
   ]
  },
  {
   "cell_type": "code",
   "execution_count": 20,
   "metadata": {
    "collapsed": true
   },
   "outputs": [],
   "source": [
    "data = data.drop('label', axis=1)"
   ]
  },
  {
   "cell_type": "code",
   "execution_count": 21,
   "metadata": {},
   "outputs": [
    {
     "name": "stdout",
     "output_type": "stream",
     "text": [
      "<class 'pandas.core.frame.DataFrame'>\n",
      "RangeIndex: 42000 entries, 0 to 41999\n",
      "Columns: 784 entries, pixel0 to pixel783\n",
      "dtypes: int64(784)\n",
      "memory usage: 251.2 MB\n"
     ]
    }
   ],
   "source": [
    "data.info()"
   ]
  },
  {
   "cell_type": "code",
   "execution_count": 22,
   "metadata": {
    "collapsed": true
   },
   "outputs": [],
   "source": [
    "data = np.array(data)\n",
    "data = data.reshape(784, 42000)"
   ]
  },
  {
   "cell_type": "code",
   "execution_count": 43,
   "metadata": {
    "collapsed": true
   },
   "outputs": [],
   "source": [
    "def model(X1, Y1, learning_rate=0.0001, num_epochs=50, minibatch_size=64, print_cost = True, plot_cost=True, L=3, m=42000):\n",
    "    seed = 1\n",
    "    X = tf.placeholder(tf.float64, name='X')\n",
    "    Y = tf.placeholder(tf.float64, name='Y')\n",
    "    parameters = {}\n",
    "    parameters['W1'] = tf.get_variable(dtype=tf.float64, name = 'W1', shape=[20, 784], initializer=tf.contrib.layers.xavier_initializer())\n",
    "    parameters['b1'] = tf.get_variable(dtype=tf.float64, name = 'b1', shape=[20, 1], initializer=tf.zeros_initializer())\n",
    "    parameters['W2'] = tf.get_variable(dtype=tf.float64, name = 'W2', shape=[40, 20], initializer=tf.contrib.layers.xavier_initializer())\n",
    "    parameters['b2'] = tf.get_variable(dtype=tf.float64, name = 'b2', shape=[40, 1], initializer=tf.zeros_initializer())\n",
    "    parameters['W3'] = tf.get_variable(dtype=tf.float64, name = 'W3', shape=[10, 40], initializer=tf.contrib.layers.xavier_initializer())\n",
    "    parameters['b3'] = tf.get_variable(dtype=tf.float64, name = 'b3', shape=[10, 1], initializer=tf.zeros_initializer())\n",
    "    Z1 = tf.add(tf.matmul(parameters['W1'], X), parameters['b1'], name='Z1')\n",
    "    A1 = tf.nn.relu(Z1, name='A1')\n",
    "    Z2 = tf.add(tf.matmul(parameters['W2'], A1), parameters['b2'], name='Z2')\n",
    "    A2 = tf.nn.relu(Z2, name='A2')\n",
    "    Z3 = tf.add(tf.matmul(parameters['W3'], A2), parameters['b3'], name='Z3')\n",
    "    logits = tf.transpose(Z3)\n",
    "    labels = tf.transpose(Y)\n",
    "    cost = tf.reduce_mean(tf.nn.softmax_cross_entropy_with_logits(logits = logits, labels=labels))\n",
    "    optimizer = tf.train.AdamOptimizer(learning_rate=learning_rate).minimize(cost)\n",
    "    init = tf.global_variables_initializer()\n",
    "    with tf.Session() as sess:\n",
    "        sess.run(init)\n",
    "        costs = []\n",
    "        for epoch in range(num_epochs):\n",
    "            epoch_cost = 0\n",
    "            num_minibatches = int(m/minibatch_size)\n",
    "            seed = seed+1\n",
    "            minibatches = []\n",
    "            np.random.seed(seed)\n",
    "            permutation = list(np.random.permutation(m))\n",
    "            shuffled_X = X1[:, permutation]\n",
    "            shuffled_Y = Y1[:, permutation].reshape(10, m)\n",
    "            num_complete_minibatches = math.floor(m/minibatch_size)\n",
    "            for i in range(num_complete_minibatches):\n",
    "                minibatch_X = shuffled_X[:,i*minibatch_size:(i+1)*minibatch_size]\n",
    "                minibatch_Y = shuffled_Y[:, i*minibatch_size:(i+1)*minibatch_size]\n",
    "                minibatch = (minibatch_X, minibatch_Y)\n",
    "                minibatches.append(minibatch)\n",
    "            if m%minibatch_size != 0:\n",
    "                minibatch_X = shuffled_X[:, num_complete_minibatches*minibatch_size:]\n",
    "                minibatch_Y = shuffled_Y[:, num_complete_minibatches*minibatch_size:]\n",
    "                minibatch = (minibatch_X, minibatch_Y)\n",
    "                minibatches.append(minibatch)\n",
    "            num_minibatches = len(minibatches)\n",
    "            for minibatch in minibatches:\n",
    "                _, minibatch_cost = sess.run([optimizer, cost], feed_dict={X:minibatch[0], Y:minibatch[1]})\n",
    "                epoch_cost += minibatch_cost\n",
    "            epoch_cost = epoch_cost/num_minibatches\n",
    "            if print_cost == True and epoch%10 == 0:\n",
    "                print('After Epoch %d, cost is: %f'%(epoch, epoch_cost))\n",
    "            if plot_cost == True and epoch%10 == 0:\n",
    "                costs.append(epoch_cost)\n",
    "        if plot_cost == True:\n",
    "            plt.plot(np.squeeze(costs))\n",
    "            plt.ylabel('cost')\n",
    "            plt.xlabel('iterations (per tens)')\n",
    "            plt.title(\"Learning rate =\" + str(learning_rate))\n",
    "        return parameters"
   ]
  },
  {
   "cell_type": "code",
   "execution_count": 44,
   "metadata": {
    "scrolled": false
   },
   "outputs": [
    {
     "name": "stdout",
     "output_type": "stream",
     "text": [
      "After Epoch 0, cost is: 9.394766\n",
      "After Epoch 10, cost is: 2.294992\n",
      "After Epoch 20, cost is: 2.226765\n",
      "After Epoch 30, cost is: 2.186979\n",
      "After Epoch 40, cost is: 2.157016\n"
     ]
    },
    {
     "data": {
      "text/plain": [
       "{'W1': <tf.Variable 'W1:0' shape=(20, 784) dtype=float64_ref>,\n",
       " 'W2': <tf.Variable 'W2:0' shape=(40, 20) dtype=float64_ref>,\n",
       " 'W3': <tf.Variable 'W3:0' shape=(10, 40) dtype=float64_ref>,\n",
       " 'b1': <tf.Variable 'b1:0' shape=(20, 1) dtype=float64_ref>,\n",
       " 'b2': <tf.Variable 'b2:0' shape=(40, 1) dtype=float64_ref>,\n",
       " 'b3': <tf.Variable 'b3:0' shape=(10, 1) dtype=float64_ref>}"
      ]
     },
     "execution_count": 44,
     "metadata": {},
     "output_type": "execute_result"
    },
    {
     "data": {
      "image/png": "[encoded data removed]",
      "text/plain": [
       "<matplotlib.figure.Figure at 0x2664516d898>"
      ]
     },
     "metadata": {},
     "output_type": "display_data"
    }
   ],
   "source": [
    "tf.reset_default_graph() \n",
    "model(data, Y_he)"
   ]
  },
  {
   "cell_type": "code",
   "execution_count": 23,
   "metadata": {
    "collapsed": true
   },
   "outputs": [],
   "source": [
    "Y_he = np.zeros((10, 42000))"
   ]
  },
  {
   "cell_type": "code",
   "execution_count": 24,
   "metadata": {
    "collapsed": true
   },
   "outputs": [],
   "source": [
    "for i in range(42000):\n",
    "    j = Y[i]\n",
    "    Y_he[j][i] = 1"
   ]
  },
  {
   "cell_type": "markdown",
   "metadata": {
    "collapsed": true
   },
   "source": [
    "### Convolutional Neural Networks"
   ]
  },
  {
   "cell_type": "code",
   "execution_count": null,
   "metadata": {
    "collapsed": true
   },
   "outputs": [],
   "source": []
  }
 ],
 "metadata": {
  "kernelspec": {
   "display_name": "Python 3",
   "language": "python",
   "name": "python3"
  },
  "language_info": {
   "codemirror_mode": {
    "name": "ipython",
    "version": 3
   },
   "file_extension": ".py",
   "mimetype": "text/x-python",
   "name": "python",
   "nbconvert_exporter": "python",
   "pygments_lexer": "ipython3",
   "version": "3.6.0"
  }
 },
 "nbformat": 4,
 "nbformat_minor": 2
}
